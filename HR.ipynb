{
 "cells": [
  {
   "cell_type": "markdown",
   "metadata": {},
   "source": [
    "CPS 3320 \n",
    "Dc.Kumar\n",
    "Project 1\n",
    "Rious && Chenhao Sun\n",
    "June 6th,2024"
   ]
  },
  {
   "cell_type": "markdown",
   "metadata": {},
   "source": [
    "Task 1: Data Loading and Cleaning (20 points)\n",
    "        a) Write a function load_data(file_path) that loads the CSV file into a pandas Data Frame.\n",
    "        b) Write a function clean_data(df) that:\n",
    "        ▪ Checks for and handles any missing values.\n",
    "        ▪ Ensures data types are appropriate for analysis"
   ]
  },
  {
   "cell_type": "code",
   "execution_count": 2,
   "metadata": {},
   "outputs": [
    {
     "name": "stdout",
     "output_type": "stream",
     "text": [
      "    EmployeeID   FirstName    LastName         Department  StartDate  Salary  \\\n",
      "0      1234567       Emily     Johnson                 IT 2018-04-10   58000   \n",
      "1      2345678   Alexander   Kuznetsov                 HR 2021-08-21   46000   \n",
      "2      3456789         Mia        Wong          Logistics 2019-01-30   49000   \n",
      "3      4567890        Noah      Miller   Customer Service 2022-03-15   41000   \n",
      "4      5678901    Isabella       Rossi                 IT 2017-05-22   54000   \n",
      "5      6789012        Liam   Hernandez                 HR 2020-07-18   61000   \n",
      "6      7890123       Sofia         Kim          Logistics 2018-09-05   47000   \n",
      "7      8901234       Mason      Dubois   Customer Service 2021-11-29   44000   \n",
      "8      9012345         Ava       Kovak                 IT 2019-02-13   57000   \n",
      "9       123456     William      Garcia                 HR 2020-10-20   60000   \n",
      "10     1234568     Abigail    Yamamoto          Logistics 2018-06-30   50000   \n",
      "12     3456780     Madison    da Silva                 IT 2017-08-19   55000   \n",
      "\n",
      "   EmploymentStatus  ExperienceYears  \n",
      "0         FULL_TIME         6.182067  \n",
      "1         PART_TIME         2.817248  \n",
      "2         FULL_TIME         5.374401  \n",
      "3         PART_TIME         2.253251  \n",
      "4         FULL_TIME         7.066393  \n",
      "5         PART_TIME         3.909651  \n",
      "6         FULL_TIME         5.776865  \n",
      "7         PART_TIME         2.543463  \n",
      "8         FULL_TIME         5.336071  \n",
      "9         PART_TIME         3.652293  \n",
      "10        FULL_TIME         5.960301  \n",
      "12        FULL_TIME         6.822724  \n",
      "Shape of the DataFrame: (12, 8)\n"
     ]
    }
   ],
   "source": [
    "import pandas as pd\n",
    "from datetime import datetime\n",
    "def load_data(file_path):\n",
    "    try:\n",
    "        df = pd.read_csv(file_path)\n",
    "        return df\n",
    "    except FileNotFoundError:\n",
    "        print(\"The file does not exist\")\n",
    "        return None\n",
    "# we need to deal with the time date, or it will affect task5(will keep running, maybe it is because the time data is lost or can not read)\n",
    "\n",
    "def clean_data(df):\n",
    "    if df is not None:\n",
    "        # rename\n",
    "        df.columns = ['EmployeeID', 'FirstName', 'LastName', 'Department', 'StartDate', 'Salary', 'EmploymentStatus']\n",
    "        \n",
    "        #convert\n",
    "        df['StartDate'] = pd.to_datetime(df['StartDate'], errors='coerce')\n",
    "        df['Salary'] = pd.to_numeric(df['Salary'], errors='coerce')\n",
    "        \n",
    "        # compute \n",
    "        current_date = datetime.now()\n",
    "        df['ExperienceYears'] = (current_date - df['StartDate']).dt.days / 365.25\n",
    "        \n",
    "        # Clear any lines with NaN values\n",
    "        df = df.dropna()\n",
    "        \n",
    "        return df\n",
    "    else:\n",
    "        print(\"The DataFrame is empty or not loaded properly\")\n",
    "        return None\n",
    "\n",
    "\n",
    "df = load_data('employees.csv')\n",
    "\n",
    "cleaned_df = clean_data(df)\n",
    "\n",
    "if cleaned_df is not None:\n",
    "    print(cleaned_df)\n",
    "\n",
    "    print(f\"Shape of the DataFrame: {cleaned_df.shape}\")\n",
    "\n",
    "else:\n",
    "    print(\"No data to display\")"
   ]
  },
  {
   "cell_type": "markdown",
   "metadata": {},
   "source": [
    "Task 2: Decision Making and Loops (20 points)\n",
    "        a) Write a function calculate_average_salary(df, department) that:\n",
    "        ▪ Takes the DataFrame and a department name as input.\n",
    "        ▪ Returns the average salary of employees in that department.\n",
    "        b) Write a function find_employees_with_experience(df, years) that:\n",
    "        ▪ Takes the DataFrame and a number of years as input\n",
    "        ▪ Returns a list of names of employees with experience greater than or equal to the specified years"
   ]
  },
  {
   "cell_type": "code",
   "execution_count": 3,
   "metadata": {},
   "outputs": [
    {
     "name": "stdout",
     "output_type": "stream",
     "text": [
      "Average salary in IT department: 56000.0\n",
      "Employees with at least 5 years of experience: ['Emily Johnson', 'Mia Wong', 'Isabella Rossi', 'Sofia Kim', 'Ava Kovak', 'Abigail Yamamoto', 'Madison da Silva']\n"
     ]
    },
    {
     "name": "stderr",
     "output_type": "stream",
     "text": [
      "C:\\Users\\HP\\AppData\\Local\\Temp\\ipykernel_12728\\290992706.py:14: SettingWithCopyWarning: \n",
      "A value is trying to be set on a copy of a slice from a DataFrame.\n",
      "Try using .loc[row_indexer,col_indexer] = value instead\n",
      "\n",
      "See the caveats in the documentation: https://pandas.pydata.org/pandas-docs/stable/user_guide/indexing.html#returning-a-view-versus-a-copy\n",
      "  df['StartDate'] = pd.to_datetime(df['StartDate'], errors='coerce')\n",
      "C:\\Users\\HP\\AppData\\Local\\Temp\\ipykernel_12728\\290992706.py:15: SettingWithCopyWarning: \n",
      "A value is trying to be set on a copy of a slice from a DataFrame.\n",
      "Try using .loc[row_indexer,col_indexer] = value instead\n",
      "\n",
      "See the caveats in the documentation: https://pandas.pydata.org/pandas-docs/stable/user_guide/indexing.html#returning-a-view-versus-a-copy\n",
      "  df['ExperienceYears'] = (current_date - df['StartDate']).dt.days / 365\n"
     ]
    }
   ],
   "source": [
    "from datetime import datetime\n",
    "\n",
    "def calculate_average_salary(df, department):\n",
    "    department_df = df[df['Department'].str.strip() == department]\n",
    "    if not department_df.empty:\n",
    "        average_salary = department_df['Salary'].mean()\n",
    "        return average_salary\n",
    "    else:\n",
    "        print(f\"No data found for department: {department}\")\n",
    "        return None\n",
    "\n",
    "def find_employees_with_experience(df, years):\n",
    "    current_date = datetime.now()\n",
    "    df['StartDate'] = pd.to_datetime(df['StartDate'], errors='coerce')\n",
    "    df['ExperienceYears'] = (current_date - df['StartDate']).dt.days / 365\n",
    "    experienced_employees = df[df['ExperienceYears'] >= years]['FirstName'].str.strip() + ' ' + df['LastName'].str.strip()\n",
    "    return experienced_employees.dropna().tolist()\n",
    "\n",
    "\n",
    "average_salary_it = calculate_average_salary(cleaned_df, 'IT')\n",
    "print(f\"Average salary in IT department: {average_salary_it}\")\n",
    "\n",
    "experienced_employees = find_employees_with_experience(cleaned_df, 5)\n",
    "print(f\"Employees with at least 5 years of experience: {experienced_employees}\")"
   ]
  },
  {
   "cell_type": "markdown",
   "metadata": {},
   "source": [
    "Task 3: Functions and Modules (20 points)\n",
    "        a) Write a function get_department_statistics(df) that:\n",
    "        ▪ Returns a dictionary with department names as keys and their respective average salaries and average\n",
    "        ages as values\n",
    "        Example output: {'HR': {'Average Salary': 50000, 'Average Age': 30}, ...}\n",
    "        b) Write a module named employee_analysis.py and move all the above functions to this module. Import\n",
    "        this module into your main script and call the functions as needed."
   ]
  },
  {
   "cell_type": "code",
   "execution_count": 4,
   "metadata": {},
   "outputs": [],
   "source": [
    "# The other two b) task is in other file.\n",
    "\n",
    "def get_department_statistics(df):\n",
    "    current_date = datetime.now()\n",
    "    df['StartDate'] = pd.to_datetime(df['StartDate'], errors='coerce')\n",
    "    df['Age'] = (current_date - df['StartDate']).dt.days / 365.25  # Using 365.25 for more accurate year calculation\n",
    "    \n",
    "    department_stats = {}\n",
    "    for department in df['Department'].unique():\n",
    "        department_df = df[df['Department'] == department]\n",
    "        average_salary = department_df['Salary'].mean()\n",
    "        average_age = department_df['Age'].mean()\n",
    "        department_stats[department] = {'Average Salary': average_salary, 'Average Age': average_age}\n",
    "    \n",
    "    return department_stats"
   ]
  },
  {
   "cell_type": "markdown",
   "metadata": {},
   "source": [
    "Task 4: Data Visualization with Matplotlib (20 points)\n",
    "        a) Write a function plot_salary_distribution(df) that:\n",
    "        ▪ Plots the distribution of salaries using a histogram.\n",
    "        b) Save the plot as salary_distribution.png.\n",
    "        c) Write a function plot_average_salary_by_department(df) that:\n",
    "        ▪ Plots the average salary by department using a bar chart\n",
    "        d) Save the plot as average_salary_by_department.png\n"
   ]
  },
  {
   "cell_type": "code",
   "execution_count": 5,
   "metadata": {},
   "outputs": [
    {
     "name": "stdout",
     "output_type": "stream",
     "text": [
      "Salary distribution plot saved as salary_distribution.png\n",
      "Average salary by department plot saved as average_salary_by_department.png\n"
     ]
    }
   ],
   "source": [
    "import matplotlib.pyplot as plt\n",
    "\n",
    "def plot_salary_distribution(df):\n",
    "    plt.figure(figsize=(10, 6))\n",
    "    plt.hist(df['Salary'], bins=20, color='blue', edgecolor='black')\n",
    "    plt.title('Salary Distribution')\n",
    "    plt.xlabel('Salary')\n",
    "    plt.ylabel('Frequency')\n",
    "    plt.savefig('salary_distribution.png')\n",
    "    plt.close()\n",
    "\n",
    "def plot_average_salary_by_department(df):\n",
    "    department_avg_salary = df.groupby('Department')['Salary'].mean().sort_values()\n",
    "    plt.figure(figsize=(12, 8))\n",
    "    department_avg_salary.plot(kind='bar', color='green', edgecolor='black')\n",
    "    plt.title('Average Salary by Department')\n",
    "    plt.xlabel('Department')\n",
    "    plt.ylabel('Average Salary')\n",
    "    plt.savefig('average_salary_by_department.png')\n",
    "    plt.close()\n",
    "\n",
    "if cleaned_df is not None and not cleaned_df.empty:\n",
    "\n",
    "    plot_salary_distribution(cleaned_df)\n",
    "    print(\"Salary distribution plot saved as salary_distribution.png\")\n",
    "\n",
    "    plot_average_salary_by_department(cleaned_df)\n",
    "    print(\"Average salary by department plot saved as average_salary_by_department.png\")\n",
    "else:\n",
    "    print(\"Cleaned DataFrame is empty or not loaded properly.\")\n"
   ]
  },
  {
   "cell_type": "markdown",
   "metadata": {},
   "source": [
    "Task 5: Data Visualization with Seaborn and Plotly (20 points)\n",
    "    a) Write a function plot_salary_vs_experience(df) that:\n",
    "    ▪ Plots a scatter plot of salary vs. experience using Seaborn.\n",
    "    b) Save the plot as salary_vs_experience.png\n",
    "    c) Write a function plot_age_distribution_by_department(df) that:\n",
    "    ▪ Plots the distribution of ages for each department using a box plot with Plotly\n",
    "    d) Save the plot as age_distribution_by_department.png"
   ]
  },
  {
   "cell_type": "code",
   "execution_count": 6,
   "metadata": {},
   "outputs": [
    {
     "name": "stdout",
     "output_type": "stream",
     "text": [
      "Checking cleaned DataFrame...\n",
      "   EmployeeID   FirstName    LastName         Department  StartDate  Salary  \\\n",
      "0     1234567       Emily     Johnson                 IT 2018-04-10   58000   \n",
      "1     2345678   Alexander   Kuznetsov                 HR 2021-08-21   46000   \n",
      "2     3456789         Mia        Wong          Logistics 2019-01-30   49000   \n",
      "3     4567890        Noah      Miller   Customer Service 2022-03-15   41000   \n",
      "4     5678901    Isabella       Rossi                 IT 2017-05-22   54000   \n",
      "\n",
      "  EmploymentStatus  ExperienceYears  \n",
      "0        FULL_TIME         6.186301  \n",
      "1        PART_TIME         2.819178  \n",
      "2        FULL_TIME         5.378082  \n",
      "3        PART_TIME         2.254795  \n",
      "4        FULL_TIME         7.071233  \n",
      "<class 'pandas.core.frame.DataFrame'>\n",
      "Index: 12 entries, 0 to 12\n",
      "Data columns (total 8 columns):\n",
      " #   Column            Non-Null Count  Dtype         \n",
      "---  ------            --------------  -----         \n",
      " 0   EmployeeID        12 non-null     int64         \n",
      " 1   FirstName         12 non-null     object        \n",
      " 2   LastName          12 non-null     object        \n",
      " 3   Department        12 non-null     object        \n",
      " 4   StartDate         12 non-null     datetime64[ns]\n",
      " 5   Salary            12 non-null     int64         \n",
      " 6   EmploymentStatus  12 non-null     object        \n",
      " 7   ExperienceYears   12 non-null     float64       \n",
      "dtypes: datetime64[ns](1), float64(1), int64(2), object(4)\n",
      "memory usage: 864.0+ bytes\n",
      "None\n",
      "Starting to plot Salary vs. Experience...\n",
      "Salary vs. Experience plot saved as salary_vs_experience.png\n",
      "Salary vs. Experience plot saved as salary_vs_experience.png\n",
      "Starting to plot Age Distribution by Department...\n",
      "          Department       Age\n",
      "0                 IT  6.182067\n",
      "1                 HR  2.817248\n",
      "2          Logistics  5.374401\n",
      "3   Customer Service  2.253251\n",
      "4                 IT  7.066393\n",
      "Age distribution by department plot saved as age_distribution_by_department.png\n",
      "Age distribution by department plot saved as age_distribution_by_department.png\n"
     ]
    },
    {
     "name": "stderr",
     "output_type": "stream",
     "text": [
      "C:\\Users\\HP\\AppData\\Local\\Temp\\ipykernel_12728\\3504291736.py:20: SettingWithCopyWarning: \n",
      "A value is trying to be set on a copy of a slice from a DataFrame.\n",
      "Try using .loc[row_indexer,col_indexer] = value instead\n",
      "\n",
      "See the caveats in the documentation: https://pandas.pydata.org/pandas-docs/stable/user_guide/indexing.html#returning-a-view-versus-a-copy\n",
      "  df.loc[:, 'Age'] = (current_date - df['StartDate']).dt.days / 365.25  # 确保列名正确并使用 365.25 计算年龄\n"
     ]
    }
   ],
   "source": [
    "import seaborn as sns\n",
    "import matplotlib.pyplot as plt\n",
    "import plotly.express as px\n",
    "from datetime import datetime\n",
    "\n",
    "def plot_salary_vs_experience(df):\n",
    "    print(\"Starting to plot Salary vs. Experience...\")\n",
    "    plt.figure(figsize=(10, 6))\n",
    "    sns.scatterplot(data=df, x='ExperienceYears', y='Salary', hue='Department')\n",
    "    plt.title('Salary vs. Experience')\n",
    "    plt.xlabel('Experience Years')\n",
    "    plt.ylabel('Salary')\n",
    "    plt.savefig('salary_vs_experience.png')\n",
    "    plt.close()\n",
    "    print(\"Salary vs. Experience plot saved as salary_vs_experience.png\")\n",
    "\n",
    "def plot_age_distribution_by_department(df):\n",
    "    print(\"Starting to plot Age Distribution by Department...\")\n",
    "    current_date = datetime.now()\n",
    "    df.loc[:, 'Age'] = (current_date - df['StartDate']).dt.days / 365.25  # 确保列名正确并使用 365.25 计算年龄\n",
    "    print(df[['Department', 'Age']].head())  # 添加调试信息\n",
    "    plt.figure(figsize=(12, 8))\n",
    "    sns.boxplot(x='Department', y='Age', data=df)\n",
    "    plt.title('Age Distribution by Department')\n",
    "    plt.xlabel('Department')\n",
    "    plt.ylabel('Age')\n",
    "    plt.savefig('age_distribution_by_department.png')\n",
    "    plt.close()\n",
    "    print(\"Age distribution by department plot saved as age_distribution_by_department.png\")\n",
    "\n",
    "print(\"Checking cleaned DataFrame...\")\n",
    "print(cleaned_df.head())\n",
    "print(cleaned_df.info())\n",
    "\n",
    "plot_salary_vs_experience(cleaned_df)\n",
    "print(\"Salary vs. Experience plot saved as salary_vs_experience.png\")\n",
    "\n",
    "plot_age_distribution_by_department(cleaned_df)\n",
    "print(\"Age distribution by department plot saved as age_distribution_by_department.png\")"
   ]
  },
  {
   "cell_type": "markdown",
   "metadata": {},
   "source": [
    "Submission:\n",
    "        a) Save all files that belong to your project as a single zip file and attach it to Canvas under your\n",
    "        assignment.\n",
    "        b) Provide a single PDF file with all your project task by task demonstrating screenshots of implemented\n",
    "        project fully running.\n",
    "        c) Create a public GitHub repository for your project.\n",
    "        d) Push all your code, including the employee_analysis.py module and the main script, to the repository.\n",
    "        e) Include a README file that explains how to run your project and what each script does.\n",
    "Bonus (10 points):\n",
    "        Implement unit tests for your functions and include them in your repository.\n",
    "        Provide a detailed analysis of the employee data based on your visualizations and statistics."
   ]
  },
  {
   "cell_type": "code",
   "execution_count": 7,
   "metadata": {},
   "outputs": [
    {
     "name": "stderr",
     "output_type": "stream",
     "text": [
      ".....\n",
      "----------------------------------------------------------------------\n",
      "Ran 5 tests in 0.017s\n",
      "\n",
      "OK\n"
     ]
    },
    {
     "data": {
      "text/plain": [
       "<unittest.main.TestProgram at 0x132fc7c2330>"
      ]
     },
     "execution_count": 7,
     "metadata": {},
     "output_type": "execute_result"
    }
   ],
   "source": [
    "\n",
    "import unittest\n",
    "\n",
    "class TestEmployeeAnalysis(unittest.TestCase):\n",
    "\n",
    "        def setUp(self):\n",
    "            # 创建一个测试用的数据框\n",
    "            data = {\n",
    "                'EmployeeID': [1, 2, 3, 4],\n",
    "                'FirstName': ['John', 'Jane', 'Jim', 'Jack'],\n",
    "                'LastName': ['Doe', 'Doe', 'Beam', 'Daniels'],\n",
    "                'Department': ['HR', 'IT', 'Logistics', 'IT'],\n",
    "                'StartDate': ['2020-01-01', '2019-05-15', '2018-07-23', '2021-02-10'],\n",
    "                'Salary': [50000, 60000, 55000, 65000],\n",
    "                'EmploymentStatus': ['FULL_TIME', 'PART_TIME', 'FULL_TIME', 'PART_TIME']\n",
    "            }\n",
    "            self.df = pd.DataFrame(data)\n",
    "            self.cleaned_df = clean_data(self.df.copy())\n",
    "\n",
    "        def test_load_data(self):\n",
    "            df = load_data('employees.csv')\n",
    "            self.assertIsInstance(df, pd.DataFrame)\n",
    "\n",
    "        def test_clean_data(self):\n",
    "            self.assertIn('ExperienceYears', self.cleaned_df.columns)\n",
    "            self.assertEqual(self.cleaned_df.shape[0], 4)  # 确认没有行被删除\n",
    "            self.assertTrue(pd.api.types.is_numeric_dtype(self.cleaned_df['Salary']))\n",
    "            self.assertTrue(pd.api.types.is_datetime64_any_dtype(self.cleaned_df['StartDate']))\n",
    "\n",
    "        def test_calculate_average_salary(self):\n",
    "            avg_salary_it = calculate_average_salary(self.cleaned_df, 'IT')\n",
    "            self.assertEqual(avg_salary_it, 62500)\n",
    "\n",
    "        def test_find_employees_with_experience(self):\n",
    "            experienced_employees = find_employees_with_experience(self.cleaned_df, 1)\n",
    "            self.assertIn('John Doe', experienced_employees)\n",
    "            self.assertIn('Jim Beam', experienced_employees)\n",
    "\n",
    "        def test_get_department_statistics(self):\n",
    "            department_stats = get_department_statistics(self.cleaned_df)\n",
    "            self.assertIn('IT', department_stats)\n",
    "            self.assertIn('HR', department_stats)\n",
    "            self.assertEqual(department_stats['IT']['Average Salary'], 62500)\n",
    "            self.assertTrue('Average Age' in department_stats['IT'])\n",
    "\n",
    "unittest.main(argv=[''], exit=False)"
   ]
  },
  {
   "cell_type": "code",
   "execution_count": null,
   "metadata": {},
   "outputs": [],
   "source": []
  }
 ],
 "metadata": {
  "kernelspec": {
   "display_name": "Python 3",
   "language": "python",
   "name": "python3"
  },
  "language_info": {
   "codemirror_mode": {
    "name": "ipython",
    "version": 3
   },
   "file_extension": ".py",
   "mimetype": "text/x-python",
   "name": "python",
   "nbconvert_exporter": "python",
   "pygments_lexer": "ipython3",
   "version": "3.12.1"
  }
 },
 "nbformat": 4,
 "nbformat_minor": 2
}
